{
  "cells": [
    {
      "cell_type": "markdown",
      "metadata": {
        "id": "view-in-github",
        "colab_type": "text"
      },
      "source": [
        "<a href=\"https://colab.research.google.com/github/harsh-soni/exploratory-ai/blob/main/digits_convolution.ipynb\" target=\"_parent\"><img src=\"https://colab.research.google.com/assets/colab-badge.svg\" alt=\"Open In Colab\"/></a>"
      ]
    },
    {
      "cell_type": "code",
      "execution_count": 1,
      "metadata": {
        "colab": {
          "base_uri": "https://localhost:8080/"
        },
        "id": "6654b906",
        "outputId": "317d4fa2-7087-4451-a1ae-cd536023dd00"
      },
      "outputs": [
        {
          "output_type": "stream",
          "name": "stdout",
          "text": [
            "hello world\n"
          ]
        }
      ],
      "source": [
        "print('hello world')"
      ],
      "id": "6654b906"
    },
    {
      "cell_type": "code",
      "execution_count": 2,
      "metadata": {
        "id": "740d0b61"
      },
      "outputs": [],
      "source": [
        "from matplotlib import pyplot as plt\n",
        "from matplotlib import image as img\n",
        "import numpy as np\n",
        "import pandas as pd\n",
        "import os"
      ],
      "id": "740d0b61"
    },
    {
      "cell_type": "code",
      "execution_count": 3,
      "metadata": {
        "colab": {
          "base_uri": "https://localhost:8080/"
        },
        "id": "G0Y5krYMur6X",
        "outputId": "188f3d6b-dfd5-4e96-c708-669d4d27551b"
      },
      "outputs": [
        {
          "output_type": "stream",
          "name": "stdout",
          "text": [
            "Mounted at /content/drive/\n"
          ]
        }
      ],
      "source": [
        "from google.colab import drive\n",
        "drive.mount('/content/drive/')"
      ],
      "id": "G0Y5krYMur6X"
    },
    {
      "cell_type": "code",
      "execution_count": 16,
      "metadata": {
        "colab": {
          "base_uri": "https://localhost:8080/",
          "height": 177
        },
        "id": "70dace82",
        "outputId": "6e7148ab-ba1d-46df-a420-b06a2a75c97d"
      },
      "outputs": [
        {
          "output_type": "execute_result",
          "data": {
            "text/plain": [
              "<matplotlib.image.AxesImage at 0x7fafe58fdfd0>"
            ]
          },
          "metadata": {},
          "execution_count": 16
        },
        {
          "output_type": "display_data",
          "data": {
            "text/plain": [
              "<Figure size 144x144 with 1 Axes>"
            ],
            "image/png": "[encoded data removed]"
          },
          "metadata": {
            "needs_background": "light"
          }
        }
      ],
      "source": [
        "photo = img.imread('./drive/MyDrive/colabdata/number_images/3_2.png')\n",
        "plt.figure(figsize = (2,2))\n",
        "plt.imshow(photo)"
      ],
      "id": "70dace82"
    },
    {
      "cell_type": "code",
      "execution_count": 5,
      "metadata": {
        "colab": {
          "base_uri": "https://localhost:8080/"
        },
        "id": "16a73a04",
        "outputId": "ac6597bd-921d-4af5-c097-2bb5ee8b4342"
      },
      "outputs": [
        {
          "output_type": "execute_result",
          "data": {
            "text/plain": [
              "(100, 100, 4)"
            ]
          },
          "metadata": {},
          "execution_count": 5
        }
      ],
      "source": [
        "photo.shape"
      ],
      "id": "16a73a04"
    },
    {
      "cell_type": "code",
      "execution_count": 6,
      "metadata": {
        "id": "b5eaf6f9"
      },
      "outputs": [],
      "source": [
        "def to_gray(photo):\n",
        "    new_photo=np.zeros(shape=(100,100))\n",
        "    for i in range(0,len(photo)):\n",
        "        for j in range(0,len(photo[1])):\n",
        "            new_photo[i,j] = photo[i,j][1] * 299/1000 + photo[i,j][2] * 587/1000 + photo[i,j][3] * 114/1000\n",
        "    return new_photo.reshape(100,100,1)\n",
        "\n",
        "def to_flat(photo):\n",
        "    new_photo = photo.reshape((10000))\n",
        "    return new_photo"
      ],
      "id": "b5eaf6f9"
    },
    {
      "cell_type": "code",
      "execution_count": 7,
      "metadata": {
        "id": "3b3ff23e"
      },
      "outputs": [],
      "source": [
        "from keras.models import Sequential\n",
        "from keras.layers import Dense\n",
        "from keras.layers import Flatten\n",
        "from keras.layers import MaxPooling2D\n",
        "from keras.utils import to_categorical\n",
        "from keras.layers.reshaping.flatten import Flatten\n",
        "from keras.layers.convolutional.conv2d_transpose import Conv2D"
      ],
      "id": "3b3ff23e"
    },
    {
      "cell_type": "code",
      "execution_count": 8,
      "metadata": {
        "id": "d87bd629"
      },
      "outputs": [],
      "source": [
        "fileNames = os.listdir('./drive/MyDrive/colabdata/number_images')\n",
        "digit_labels = [int(item[0]) for item in fileNames]\n",
        "digit_labels = to_categorical(digit_labels)\n",
        "# dummies = pd.get_dummies(digit_labels)\n",
        "# dummies.head()"
      ],
      "id": "d87bd629"
    },
    {
      "cell_type": "code",
      "execution_count": 9,
      "metadata": {
        "colab": {
          "base_uri": "https://localhost:8080/"
        },
        "id": "aa753c8b",
        "outputId": "b2432d27-ce5f-41c2-c4e4-0d3d863ea5d9"
      },
      "outputs": [
        {
          "output_type": "execute_result",
          "data": {
            "text/plain": [
              "(40, 100, 100, 1)"
            ]
          },
          "metadata": {},
          "execution_count": 9
        }
      ],
      "source": [
        "digit_data = [to_gray(img.imread('./drive/MyDrive/colabdata/number_images/'+file)) for file in fileNames]\n",
        "digit_data = np.array(digit_data)\n",
        "digit_data.shape"
      ],
      "id": "aa753c8b"
    },
    {
      "cell_type": "code",
      "source": [
        "from sklearn.model_selection import train_test_split"
      ],
      "metadata": {
        "id": "zaMQAhIZNe15"
      },
      "id": "zaMQAhIZNe15",
      "execution_count": 10,
      "outputs": []
    },
    {
      "cell_type": "code",
      "source": [
        "X_train, X_test, y_train, y_test = train_test_split(digit_data, digit_labels, test_size=0.2, stratify=digit_labels)"
      ],
      "metadata": {
        "id": "ImvPSvQcNUzB"
      },
      "id": "ImvPSvQcNUzB",
      "execution_count": 11,
      "outputs": []
    },
    {
      "cell_type": "code",
      "execution_count": 21,
      "metadata": {
        "id": "e89a80a1"
      },
      "outputs": [],
      "source": [
        "model = Sequential()\n",
        "model.add(Conv2D(100,(10,10),activation='relu'))\n",
        "model.add(MaxPooling2D((4,4)))\n",
        "model.add(Flatten())\n",
        "model.add(Dense(100,activation='relu'))\n",
        "model.add(Dense(100,activation='relu'))\n",
        "model.add(Dense(9,activation='softmax'))\n",
        "model.compile(optimizer='adam',loss='categorical_crossentropy',metrics=['accuracy'])"
      ],
      "id": "e89a80a1"
    },
    {
      "cell_type": "code",
      "execution_count": 22,
      "metadata": {
        "colab": {
          "base_uri": "https://localhost:8080/"
        },
        "id": "YF_LH9ZGxAfJ",
        "outputId": "31d09de7-d2b8-4cfb-ce24-0cff4dc4931b"
      },
      "outputs": [
        {
          "output_type": "stream",
          "name": "stdout",
          "text": [
            "Epoch 1/30\n",
            "4/4 - 2s - loss: 3.0432 - accuracy: 0.1875 - val_loss: 2.1450 - val_accuracy: 0.1250 - 2s/epoch - 379ms/step\n",
            "Epoch 2/30\n",
            "4/4 - 1s - loss: 2.1331 - accuracy: 0.2500 - val_loss: 2.1250 - val_accuracy: 0.3750 - 811ms/epoch - 203ms/step\n",
            "Epoch 3/30\n",
            "4/4 - 1s - loss: 2.0459 - accuracy: 0.2812 - val_loss: 1.9933 - val_accuracy: 0.5000 - 827ms/epoch - 207ms/step\n",
            "Epoch 4/30\n",
            "4/4 - 1s - loss: 1.7856 - accuracy: 0.4688 - val_loss: 1.8253 - val_accuracy: 0.2500 - 840ms/epoch - 210ms/step\n",
            "Epoch 5/30\n",
            "4/4 - 1s - loss: 1.5401 - accuracy: 0.5938 - val_loss: 1.6609 - val_accuracy: 0.6250 - 806ms/epoch - 201ms/step\n",
            "Epoch 6/30\n",
            "4/4 - 1s - loss: 1.2432 - accuracy: 0.8125 - val_loss: 1.5452 - val_accuracy: 0.5000 - 807ms/epoch - 202ms/step\n",
            "Epoch 7/30\n",
            "4/4 - 1s - loss: 0.8809 - accuracy: 0.9375 - val_loss: 1.2899 - val_accuracy: 0.7500 - 802ms/epoch - 201ms/step\n",
            "Epoch 8/30\n",
            "4/4 - 1s - loss: 0.5175 - accuracy: 1.0000 - val_loss: 1.1808 - val_accuracy: 0.6250 - 816ms/epoch - 204ms/step\n",
            "Epoch 9/30\n",
            "Epoch 10/30\n",
            "4/4 - 1s - loss: 0.1536 - accuracy: 1.0000 - val_loss: 1.1735 - val_accuracy: 0.6250 - 794ms/epoch - 198ms/step\n",
            "Epoch 11/30\n",
            "4/4 - 1s - loss: 0.0794 - accuracy: 1.0000 - val_loss: 1.1414 - val_accuracy: 0.6250 - 775ms/epoch - 194ms/step\n",
            "Epoch 12/30\n",
            "4/4 - 1s - loss: 0.0375 - accuracy: 1.0000 - val_loss: 1.4387 - val_accuracy: 0.5000 - 802ms/epoch - 201ms/step\n",
            "Epoch 13/30\n",
            "4/4 - 1s - loss: 0.0217 - accuracy: 1.0000 - val_loss: 1.4647 - val_accuracy: 0.5000 - 809ms/epoch - 202ms/step\n",
            "Epoch 14/30\n",
            "4/4 - 1s - loss: 0.0110 - accuracy: 1.0000 - val_loss: 1.5175 - val_accuracy: 0.3750 - 795ms/epoch - 199ms/step\n",
            "Epoch 15/30\n",
            "4/4 - 1s - loss: 0.0060 - accuracy: 1.0000 - val_loss: 1.4633 - val_accuracy: 0.3750 - 791ms/epoch - 198ms/step\n",
            "Epoch 16/30\n",
            "4/4 - 1s - loss: 0.0045 - accuracy: 1.0000 - val_loss: 1.2223 - val_accuracy: 0.6250 - 779ms/epoch - 195ms/step\n",
            "Epoch 17/30\n",
            "4/4 - 1s - loss: 0.0033 - accuracy: 1.0000 - val_loss: 1.0535 - val_accuracy: 0.7500 - 866ms/epoch - 216ms/step\n",
            "Epoch 18/30\n",
            "4/4 - 1s - loss: 0.0024 - accuracy: 1.0000 - val_loss: 1.0084 - val_accuracy: 0.7500 - 805ms/epoch - 201ms/step\n",
            "Epoch 19/30\n",
            "4/4 - 1s - loss: 0.0020 - accuracy: 1.0000 - val_loss: 1.0497 - val_accuracy: 0.7500 - 810ms/epoch - 203ms/step\n",
            "Epoch 20/30\n",
            "4/4 - 1s - loss: 0.0017 - accuracy: 1.0000 - val_loss: 1.1144 - val_accuracy: 0.5000 - 806ms/epoch - 202ms/step\n",
            "Epoch 21/30\n",
            "4/4 - 1s - loss: 0.0015 - accuracy: 1.0000 - val_loss: 1.1781 - val_accuracy: 0.5000 - 797ms/epoch - 199ms/step\n",
            "Epoch 22/30\n",
            "4/4 - 1s - loss: 0.0013 - accuracy: 1.0000 - val_loss: 1.2115 - val_accuracy: 0.5000 - 803ms/epoch - 201ms/step\n",
            "Epoch 23/30\n",
            "4/4 - 1s - loss: 0.0012 - accuracy: 1.0000 - val_loss: 1.2163 - val_accuracy: 0.5000 - 812ms/epoch - 203ms/step\n",
            "Epoch 24/30\n",
            "4/4 - 1s - loss: 0.0011 - accuracy: 1.0000 - val_loss: 1.2115 - val_accuracy: 0.5000 - 816ms/epoch - 204ms/step\n",
            "Epoch 25/30\n",
            "4/4 - 1s - loss: 0.0010 - accuracy: 1.0000 - val_loss: 1.2024 - val_accuracy: 0.5000 - 796ms/epoch - 199ms/step\n",
            "Epoch 26/30\n",
            "4/4 - 1s - loss: 9.9632e-04 - accuracy: 1.0000 - val_loss: 1.2023 - val_accuracy: 0.5000 - 799ms/epoch - 200ms/step\n",
            "Epoch 27/30\n",
            "4/4 - 1s - loss: 9.4253e-04 - accuracy: 1.0000 - val_loss: 1.1903 - val_accuracy: 0.5000 - 814ms/epoch - 203ms/step\n",
            "Epoch 28/30\n",
            "4/4 - 1s - loss: 8.9716e-04 - accuracy: 1.0000 - val_loss: 1.1829 - val_accuracy: 0.6250 - 806ms/epoch - 202ms/step\n",
            "Epoch 29/30\n",
            "4/4 - 1s - loss: 8.6241e-04 - accuracy: 1.0000 - val_loss: 1.1759 - val_accuracy: 0.6250 - 809ms/epoch - 202ms/step\n",
            "Epoch 30/30\n",
            "4/4 - 1s - loss: 8.2620e-04 - accuracy: 1.0000 - val_loss: 1.1708 - val_accuracy: 0.7500 - 828ms/epoch - 207ms/step\n"
          ]
        }
      ],
      "source": [
        "history = model.fit(X_train,y_train,epochs=30,batch_size=8,verbose=2, validation_data=(X_test,y_test))"
      ],
      "id": "YF_LH9ZGxAfJ"
    },
    {
      "cell_type": "code",
      "source": [
        "plt.plot(range(0,30),history.history['accuracy'],color='red')\n",
        "plt.plot(range(0,30),history.history['val_accuracy'],color='blue')"
      ],
      "metadata": {
        "colab": {
          "base_uri": "https://localhost:8080/",
          "height": 282
        },
        "id": "IPUcXj_tXYev",
        "outputId": "226fb9bd-a041-4cfc-d59c-c3ecad6aa450"
      },
      "id": "IPUcXj_tXYev",
      "execution_count": 28,
      "outputs": [
        {
          "output_type": "execute_result",
          "data": {
            "text/plain": [
              "[<matplotlib.lines.Line2D at 0x7fafddf21970>]"
            ]
          },
          "metadata": {},
          "execution_count": 28
        },
        {
          "output_type": "display_data",
          "data": {
            "text/plain": [
              "<Figure size 432x288 with 1 Axes>"
            ],
            "image/png": "[encoded data removed]"
          },
          "metadata": {
            "needs_background": "light"
          }
        }
      ]
    },
    {
      "cell_type": "markdown",
      "source": [
        "The validation accuracy is unstable. Both the training data and test data is too less for us to create a predictive model that will generalize to unseen data. However, even with randomness built into model fitting as well as data split, a validation accuracy of 65% is constantly seen between 15-25 epochs. Since the accuracy reaches 100% much early, model is certainly overfitting. "
      ],
      "metadata": {
        "id": "Dxy6Z77XYYQZ"
      },
      "id": "Dxy6Z77XYYQZ"
    },
    {
      "cell_type": "code",
      "source": [
        "chk = 0\n",
        "plt.imshow(X_test[chk].reshape(100,100), cmap='gray')\n",
        "np.argmax(model.predict(X_test[chk:chk+1]))"
      ],
      "metadata": {
        "colab": {
          "base_uri": "https://localhost:8080/",
          "height": 302
        },
        "id": "nc7NPE59MPuQ",
        "outputId": "b96abe9d-0a5b-4583-aa0a-f9e04fd6cfea"
      },
      "id": "nc7NPE59MPuQ",
      "execution_count": 14,
      "outputs": [
        {
          "output_type": "stream",
          "name": "stdout",
          "text": [
            "1/1 [==============================] - 0s 135ms/step\n"
          ]
        },
        {
          "output_type": "execute_result",
          "data": {
            "text/plain": [
              "4"
            ]
          },
          "metadata": {},
          "execution_count": 14
        },
        {
          "output_type": "display_data",
          "data": {
            "text/plain": [
              "<Figure size 432x288 with 1 Axes>"
            ],
            "image/png": "[encoded data removed]"
          },
          "metadata": {
            "needs_background": "light"
          }
        }
      ]
    },
    {
      "cell_type": "code",
      "source": [
        "model.evaluate(X_train, y_train, verbose=2)"
      ],
      "metadata": {
        "colab": {
          "base_uri": "https://localhost:8080/"
        },
        "id": "rXWx8Lc4MvYP",
        "outputId": "a9c5da4f-7849-49b1-bc3c-47c68f5bd4c9"
      },
      "id": "rXWx8Lc4MvYP",
      "execution_count": 15,
      "outputs": [
        {
          "output_type": "stream",
          "name": "stdout",
          "text": [
            "1/1 - 0s - loss: 5.6755e-04 - accuracy: 1.0000 - 358ms/epoch - 358ms/step\n"
          ]
        },
        {
          "output_type": "execute_result",
          "data": {
            "text/plain": [
              "[0.0005675494903698564, 1.0]"
            ]
          },
          "metadata": {},
          "execution_count": 15
        }
      ]
    }
  ],
  "metadata": {
    "colab": {
      "provenance": [],
      "include_colab_link": true
    },
    "kernelspec": {
      "display_name": "Python 3 (ipykernel)",
      "language": "python",
      "name": "python3"
    },
    "language_info": {
      "codemirror_mode": {
        "name": "ipython",
        "version": 3
      },
      "file_extension": ".py",
      "mimetype": "text/x-python",
      "name": "python",
      "nbconvert_exporter": "python",
      "pygments_lexer": "ipython3",
      "version": "3.10.9"
    }
  },
  "nbformat": 4,
  "nbformat_minor": 5
}